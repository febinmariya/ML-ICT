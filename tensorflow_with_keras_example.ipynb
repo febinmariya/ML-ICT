{
  "cells": [
    {
      "cell_type": "code",
      "source": [
        "import tensorflow as tf\n",
        "from tensorflow.keras.layers import Flatten, Dense\n",
        "from tensorflow.keras.models import Sequential\n",
        "import numpy as np\n",
        "import cv2\n",
        "\n",
        "# Load your image\n",
        "image = cv2.imread('five.jpg')\n",
        "\n",
        "# Resize the image to 28x28 pixels\n",
        "image_resized = cv2.resize(image, (28, 28))\n",
        "\n",
        "# Convert the image to grayscale\n",
        "image_gray = cv2.cvtColor(image_resized, cv2.COLOR_BGR2GRAY)\n",
        "\n",
        "# Normalize the pixel values\n",
        "image_normalized = image_gray / 255.0\n",
        "\n",
        "# Reshape the image to match the input shape expected by the model\n",
        "image_reshaped = np.expand_dims(image_normalized, axis=0)\n",
        "\n",
        "# Define your model\n",
        "model = Sequential([\n",
        "    Flatten(input_shape=(28, 28)),\n",
        "    Dense(128, activation='relu'),\n",
        "    Dense(10)  # No activation for logits\n",
        "])\n",
        "\n",
        "# Compile the model\n",
        "model.compile(\n",
        "    optimizer=tf.keras.optimizers.Adam(0.001),\n",
        "    loss=tf.keras.losses.SparseCategoricalCrossentropy(from_logits=True),\n",
        "    metrics=[tf.keras.metrics.SparseCategoricalAccuracy()]\n",
        ")\n",
        "\n",
        "# Convert logits to probabilities using softmax\n",
        "@tf.function\n",
        "def make_predictions(input_data):\n",
        "    return tf.nn.softmax(model(input_data))\n",
        "\n",
        "# Make predictions\n",
        "predictions = make_predictions(image_reshaped)\n",
        "\n",
        "# Get the predicted digit label\n",
        "recognized_digit = np.argmax(predictions)\n",
        "\n",
        "# Display predictions\n",
        "print(\"Predicted digit:\", recognized_digit)\n",
        "print(\"Probabilities:\", predictions)\n"
      ],
      "metadata": {
        "id": "kstbud0MLqcf"
      },
      "execution_count": null,
      "outputs": []
    }
  ],
  "metadata": {
    "colab": {
      "name": "tensorflow/datasets",
      "private_outputs": true,
      "provenance": []
    },
    "kernelspec": {
      "display_name": "Python 3",
      "name": "python3"
    }
  },
  "nbformat": 4,
  "nbformat_minor": 0
}
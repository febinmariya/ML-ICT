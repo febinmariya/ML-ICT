{
  "nbformat": 4,
  "nbformat_minor": 0,
  "metadata": {
    "colab": {
      "provenance": [],
      "include_colab_link": true
    },
    "kernelspec": {
      "name": "python3",
      "display_name": "Python 3"
    },
    "language_info": {
      "name": "python"
    }
  },
  "cells": [
    {
      "cell_type": "markdown",
      "metadata": {
        "id": "view-in-github",
        "colab_type": "text"
      },
      "source": [
        "<a href=\"https://colab.research.google.com/github/febinmariya/ML-ICT-/blob/main/CalculatorExpression.ipynb\" target=\"_parent\"><img src=\"https://colab.research.google.com/assets/colab-badge.svg\" alt=\"Open In Colab\"/></a>"
      ]
    },
    {
      "cell_type": "code",
      "source": [
        "# prompt: calculator using classes from input expression with operation implemented without library functions\n",
        "\n",
        "class Calculator:\n",
        "    def __init__(self, expression):\n",
        "        self.expression = expression\n",
        "\n",
        "    def calculate(self):\n",
        "        operators = ['+', '-', '*', '/']\n",
        "        operands = []\n",
        "        current_operand = ''\n",
        "\n",
        "        for char in self.expression:\n",
        "            if char in operators:\n",
        "                operands.append(int(current_operand))\n",
        "                operands.append(char)\n",
        "                current_operand = ''\n",
        "            else:\n",
        "                current_operand += char\n",
        "\n",
        "        operands.append(int(current_operand))\n",
        "\n",
        "        result = operands[0]\n",
        "        for i in range(1, len(operands), 2):\n",
        "            operator = operands[i]\n",
        "            operand = operands[i + 1]\n",
        "            if operator == '+':\n",
        "                result += operand\n",
        "            elif operator == '-':\n",
        "                result -= operand\n",
        "            elif operator == '*':\n",
        "                result *= operand\n",
        "            elif operator == '/':\n",
        "                result //= operand\n",
        "\n",
        "        return result\n",
        "\n",
        "\n",
        "if __name__ == \"__main__\":\n",
        "    expression = input(\"Enter expression: \")\n",
        "    calculator = Calculator(expression)\n",
        "    result = calculator.calculate()\n",
        "    print(\"Result:\", result)\n"
      ],
      "metadata": {
        "colab": {
          "base_uri": "https://localhost:8080/"
        },
        "id": "gWrCU1XQn9Dd",
        "outputId": "2c6fdcc8-392c-46df-da76-5bd01f503235"
      },
      "execution_count": null,
      "outputs": [
        {
          "output_type": "stream",
          "name": "stdout",
          "text": [
            "Enter expression: 1+5\n",
            "Result: 6\n"
          ]
        }
      ]
    }
  ]
}
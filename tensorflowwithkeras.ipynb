{
  "nbformat": 4,
  "nbformat_minor": 0,
  "metadata": {
    "colab": {
      "provenance": [],
      "authorship_tag": "ABX9TyOQCE0qbVBVebj8PBBvU0Xr",
      "include_colab_link": true
    },
    "kernelspec": {
      "name": "python3",
      "display_name": "Python 3"
    },
    "language_info": {
      "name": "python"
    }
  },
  "cells": [
    {
      "cell_type": "markdown",
      "metadata": {
        "id": "view-in-github",
        "colab_type": "text"
      },
      "source": [
        "<a href=\"https://colab.research.google.com/github/febinmariya/ML-ICT/blob/main/tensorflowwithkeras.ipynb\" target=\"_parent\"><img src=\"https://colab.research.google.com/assets/colab-badge.svg\" alt=\"Open In Colab\"/></a>"
      ]
    },
    {
      "cell_type": "code",
      "source": [
        "import tensorflow as tf\n",
        "from tensorflow.keras.layers import Flatten, Dense\n",
        "from tensorflow.keras.models import Sequential\n",
        "import numpy as np\n",
        "import cv2\n",
        "\n",
        "# Load your image\n",
        "image = cv2.imread('five.jpg')\n",
        "\n",
        "# Resize the image to 28x28 pixels\n",
        "image_resized = cv2.resize(image, (28, 28))\n",
        "\n",
        "# Convert the image to grayscale\n",
        "image_gray = cv2.cvtColor(image_resized, cv2.COLOR_BGR2GRAY)\n",
        "\n",
        "# Normalize the pixel values\n",
        "image_normalized = image_gray / 255.0\n",
        "\n",
        "# Reshape the image to match the input shape expected by the model\n",
        "image_reshaped = np.expand_dims(image_normalized, axis=0)\n",
        "\n",
        "# Define your model\n",
        "model = Sequential([\n",
        "    Flatten(input_shape=(28, 28)),\n",
        "    Dense(128, activation='relu'),\n",
        "    Dense(10)\n",
        "])\n",
        "\n",
        "# Compile the model\n",
        "model.compile(\n",
        "    optimizer=tf.keras.optimizers.Adam(0.001),\n",
        "    loss=tf.keras.losses.SparseCategoricalCrossentropy(from_logits=True),\n",
        "    metrics=[tf.keras.metrics.SparseCategoricalAccuracy()]\n",
        ")\n",
        "\n",
        "# Make predictions\n",
        "predictions = model.predict(image_reshaped)\n",
        "\n",
        "# Display predictions\n",
        "print(predictions)\n",
        "\n",
        "recognized_digit = np.argmax(predictions)\n",
        "\n",
        "# Display predictions\n",
        "print(\"Predicted digit:\", recognized_digit)\n"
      ],
      "metadata": {
        "colab": {
          "base_uri": "https://localhost:8080/"
        },
        "id": "1cptwlpSK36t",
        "outputId": "c96ca0a4-d7a9-4759-bd31-b794b466adbf"
      },
      "execution_count": 8,
      "outputs": [
        {
          "output_type": "stream",
          "name": "stderr",
          "text": [
            "WARNING:tensorflow:5 out of the last 5 calls to <function Model.make_predict_function.<locals>.predict_function at 0x7c7a2e1bfbe0> triggered tf.function retracing. Tracing is expensive and the excessive number of tracings could be due to (1) creating @tf.function repeatedly in a loop, (2) passing tensors with different shapes, (3) passing Python objects instead of tensors. For (1), please define your @tf.function outside of the loop. For (2), @tf.function has reduce_retracing=True option that can avoid unnecessary retracing. For (3), please refer to https://www.tensorflow.org/guide/function#controlling_retracing and https://www.tensorflow.org/api_docs/python/tf/function for  more details.\n"
          ]
        },
        {
          "output_type": "stream",
          "name": "stdout",
          "text": [
            "1/1 [==============================] - 0s 62ms/step\n",
            "[[-0.28014448 -0.06944485  0.15152648 -0.34218922  0.01952182  0.19270799\n",
            "  -0.28373986 -0.11617167  0.11655834 -0.1064041 ]]\n",
            "Predicted digit: 5\n"
          ]
        }
      ]
    }
  ]
}